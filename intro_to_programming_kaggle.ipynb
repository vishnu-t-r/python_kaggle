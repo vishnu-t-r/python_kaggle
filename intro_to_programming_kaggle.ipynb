{
 "cells": [
  {
   "cell_type": "markdown",
   "id": "646e969b-b6d3-4ed7-8511-31d0f9cd2dcc",
   "metadata": {
    "tags": []
   },
   "source": [
    "## Intro to Programming"
   ]
  },
  {
   "cell_type": "markdown",
   "id": "3fb3d8d3-4ba5-40df-b4d7-a590fe076e3d",
   "metadata": {
    "tags": []
   },
   "source": [
    "### Topic 1 : Arithmetic and Variables"
   ]
  },
  {
   "cell_type": "code",
   "execution_count": 1,
   "id": "85147572-6fe7-463c-a04e-b6c5cd32ab14",
   "metadata": {
    "tags": []
   },
   "outputs": [
    {
     "name": "stdout",
     "output_type": "stream",
     "text": [
      "i am learning python\n"
     ]
    }
   ],
   "source": [
    "print('i am learning python')"
   ]
  },
  {
   "cell_type": "code",
   "execution_count": 2,
   "id": "b33808a4-2994-4c56-a5e3-468939b565c8",
   "metadata": {
    "tags": []
   },
   "outputs": [
    {
     "name": "stdout",
     "output_type": "stream",
     "text": [
      "3\n"
     ]
    }
   ],
   "source": [
    "print(1 + 2)"
   ]
  },
  {
   "cell_type": "code",
   "execution_count": 3,
   "id": "17de5cec-a044-44f3-922d-57c9131347cd",
   "metadata": {
    "tags": []
   },
   "outputs": [
    {
     "name": "stdout",
     "output_type": "stream",
     "text": [
      "4\n"
     ]
    }
   ],
   "source": [
    "print(2**2)"
   ]
  },
  {
   "cell_type": "code",
   "execution_count": 4,
   "id": "6d7c07b3-1a14-48d6-b15c-124cb7c3554a",
   "metadata": {
    "tags": []
   },
   "outputs": [
    {
     "name": "stdout",
     "output_type": "stream",
     "text": [
      "9\n"
     ]
    }
   ],
   "source": [
    "var = 4 + 5\n",
    "print(var)"
   ]
  },
  {
   "cell_type": "code",
   "execution_count": null,
   "id": "f05baa21-6548-4dfd-8a02-54a8a35faa41",
   "metadata": {},
   "outputs": [],
   "source": [
    "# conditions for variable names\n",
    "## They can't have spaces (e.g., test var is not allowed)\n",
    "## They can only include letters, numbers, and underscores (e.g., test_var! is not allowed)\n",
    "## They have to start with a letter or underscore (e.g., 1_var is not allowed)\n",
    "## to create the variable, use = to assign the value that you want it to have"
   ]
  },
  {
   "cell_type": "markdown",
   "id": "21ddc0c6-482f-45c9-b52a-db566d700920",
   "metadata": {
    "tags": []
   },
   "source": [
    "### Topic 2 : Functions"
   ]
  },
  {
   "cell_type": "code",
   "execution_count": 5,
   "id": "5204cfde-33fb-4bcf-b798-b46784104a0f",
   "metadata": {
    "tags": []
   },
   "outputs": [],
   "source": [
    "# The add_three() function below accepts any number, adds three to it, and then returns the result."
   ]
  },
  {
   "cell_type": "code",
   "execution_count": 8,
   "id": "3ecc2913-367e-448c-b8d5-ecff913277f4",
   "metadata": {
    "tags": []
   },
   "outputs": [],
   "source": [
    "# method 1 \n",
    "def add_three(a):\n",
    "    a = a + 3\n",
    "    print(a)"
   ]
  },
  {
   "cell_type": "code",
   "execution_count": 9,
   "id": "d8906093-bb3b-4cb4-bd47-02ba552bc626",
   "metadata": {
    "tags": []
   },
   "outputs": [
    {
     "name": "stdout",
     "output_type": "stream",
     "text": [
      "6\n"
     ]
    }
   ],
   "source": [
    "add_three(3)"
   ]
  },
  {
   "cell_type": "code",
   "execution_count": 15,
   "id": "8fe34a99-789c-4b1f-9064-65d3de709f1f",
   "metadata": {
    "tags": []
   },
   "outputs": [],
   "source": [
    "# method 2\n",
    "def three_add(input_var):\n",
    "    output_var = input_var + 3\n",
    "    return output_var\n",
    "#return keyword tells that we are exiting the function"
   ]
  },
  {
   "cell_type": "code",
   "execution_count": 16,
   "id": "15f727d3-b6cc-4f44-95a4-dbbb8f019436",
   "metadata": {
    "tags": []
   },
   "outputs": [
    {
     "data": {
      "text/plain": [
       "7"
      ]
     },
     "execution_count": 16,
     "metadata": {},
     "output_type": "execute_result"
    }
   ],
   "source": [
    "three_add(4)"
   ]
  },
  {
   "cell_type": "code",
   "execution_count": 17,
   "id": "b1f4702f-f6b1-463b-aa5c-8ebb9e10a269",
   "metadata": {
    "tags": []
   },
   "outputs": [],
   "source": [
    "# a function can have no argument or many argument"
   ]
  },
  {
   "cell_type": "markdown",
   "id": "9114fd43-f8ca-49ba-a158-b6cac2f439a3",
   "metadata": {},
   "source": [
    "#### Question 1\n",
    "\n",
    "You are helping a friend to calculate their weekly paycheck after taxes.\n",
    "\n",
    "- They're in a 12% tax bracket (in other words, 12% of their salary is taken for taxes, and they only take home 88%), and \n",
    "- They're paid hourly, at a rate of $15/hour.\n",
    "\n",
    "The function below calculates the paycheck based on the number of hours worked.\n",
    "\n",
    "The function has a single argument (num hours). In the function body, we:\n",
    "\n",
    "- Use the value for num_hours to specify the value for a new variable 'pay_pretax'.\n",
    "- Use the value of pay_pretax to specify the value for a new variable 'pay_aftertax'.\n",
    "- Return the value of the pay_aftertax variable."
   ]
  },
  {
   "cell_type": "code",
   "execution_count": 18,
   "id": "284a5fa9-afee-485e-aa8e-387d6e4373ab",
   "metadata": {
    "tags": []
   },
   "outputs": [],
   "source": [
    "def pay(num_hours):\n",
    "    hourly_pay = 15\n",
    "    pay_pretax = num_hours * hourly_pay\n",
    "    pay_aftertax = pay_pretax * (88/100)\n",
    "    return pay_aftertax"
   ]
  },
  {
   "cell_type": "code",
   "execution_count": 19,
   "id": "78420f95-19db-4ef8-a7f7-7b7c5741ef6d",
   "metadata": {
    "tags": []
   },
   "outputs": [
    {
     "data": {
      "text/plain": [
       "528.0"
      ]
     },
     "execution_count": 19,
     "metadata": {},
     "output_type": "execute_result"
    }
   ],
   "source": [
    "pay(40)"
   ]
  },
  {
   "cell_type": "markdown",
   "id": "5e2fd8c8-d07b-4981-9030-cc9a9fec7e08",
   "metadata": {
    "tags": []
   },
   "source": [
    "#### Functions with multiple arguments"
   ]
  },
  {
   "cell_type": "markdown",
   "id": "8d7f46ba-2eec-411d-a976-fed90d43a171",
   "metadata": {},
   "source": [
    "#### Question 2\n",
    "\n",
    "get_pay_with_more_inputs() function, which calculates a weekly paycheck based on three arguments:\n",
    "\n",
    "- num_hours - number of hours worked in one week\n",
    "- hourly_wage - the hourly wage (in $/hour)\n",
    "- tax_bracket - percentage of your salary that is removed for taxes"
   ]
  },
  {
   "cell_type": "code",
   "execution_count": 20,
   "id": "c57fa2da-e8b7-4ca7-a2ea-d6b41d54c590",
   "metadata": {
    "tags": []
   },
   "outputs": [],
   "source": [
    "def get_pay_with_more_inputs(num_hours,hourly_wage,tax_bracket):\n",
    "    pay_pretax = num_hours * hourly_wage\n",
    "    pay_aftertax = pay_pretax * (1 - tax_bracket)\n",
    "    return pay_aftertax"
   ]
  },
  {
   "cell_type": "code",
   "execution_count": 21,
   "id": "27b00131-d03e-4995-827d-87f92d455f12",
   "metadata": {
    "tags": []
   },
   "outputs": [
    {
     "data": {
      "text/plain": [
       "748.8000000000001"
      ]
     },
     "execution_count": 21,
     "metadata": {},
     "output_type": "execute_result"
    }
   ],
   "source": [
    "get_pay_with_more_inputs(40,24,0.22)"
   ]
  },
  {
   "cell_type": "markdown",
   "id": "38cedd64-3923-4edc-a899-93e773123826",
   "metadata": {},
   "source": [
    "#### Function with no argument"
   ]
  },
  {
   "cell_type": "markdown",
   "id": "968451d0-086d-4f82-8417-b308a3023cbe",
   "metadata": {},
   "source": [
    "it's possible to define function with no arguments, and that don't have a return statement. "
   ]
  },
  {
   "cell_type": "code",
   "execution_count": 24,
   "id": "a2a613ef-abb2-48ac-a0e1-668f0584edb5",
   "metadata": {
    "tags": []
   },
   "outputs": [],
   "source": [
    "def print_hello():\n",
    "    print(\"hello\")\n",
    "    print('good morning')"
   ]
  },
  {
   "cell_type": "code",
   "execution_count": 25,
   "id": "c1142cee-2ef6-4290-8e6f-6bf8c4e1061d",
   "metadata": {
    "tags": []
   },
   "outputs": [
    {
     "name": "stdout",
     "output_type": "stream",
     "text": [
      "hello\n",
      "good morning\n"
     ]
    }
   ],
   "source": [
    "print_hello()"
   ]
  },
  {
   "cell_type": "markdown",
   "id": "6f5b0d6c-586a-473e-ad80-2608a6964487",
   "metadata": {
    "tags": []
   },
   "source": [
    "#### Question 3\n",
    "\n",
    "In the [House Prices - Advanced Regression Techniques competition](https://www.kaggle.com/c/house-prices-advanced-regression-techniques/overview), you need to use information like the number of bedrooms and bathrooms to predict the price of a house.  Inspired by this competition, you'll write your own function to do this.\n",
    "\n",
    "In the next code cell, create a function `get_expected_cost()` that has two arguments:\n",
    "- `beds` - number of bedrooms \n",
    "- `baths` - number of bathrooms\n",
    "\n",
    "It should return the expected cost of a house with that number of bedrooms and bathrooms.  Assume that:\n",
    "- the expected cost for a house with 0 bedrooms and 0 bathrooms is `80000`.  \n",
    "- each bedroom adds `30000` to the expected cost\n",
    "- each bathroom adds `10000` to the expected cost.\n",
    "\n",
    "For instance, \n",
    "- a house with 1 bedroom and 1 bathroom has an expected cost of `120000`, and \n",
    "- a house with 2 bedrooms and 1 bathroom has an expected cost of `150000`."
   ]
  },
  {
   "cell_type": "code",
   "execution_count": 28,
   "id": "6d394580-8657-4c10-87b3-0a1b5b391c09",
   "metadata": {
    "tags": []
   },
   "outputs": [],
   "source": [
    "def get_expected_cost(beds,baths):\n",
    "    value = 80000 + (30000 * beds) + (10000 * baths)\n",
    "    return value"
   ]
  },
  {
   "cell_type": "code",
   "execution_count": 29,
   "id": "6f0c873f-b7ba-4c08-8d5d-1d44dea43728",
   "metadata": {
    "tags": []
   },
   "outputs": [
    {
     "data": {
      "text/plain": [
       "120000"
      ]
     },
     "execution_count": 29,
     "metadata": {},
     "output_type": "execute_result"
    }
   ],
   "source": [
    "get_expected_cost(1,1)"
   ]
  },
  {
   "cell_type": "markdown",
   "id": "7af7ee45-d624-4df3-b80f-ccf3f558e212",
   "metadata": {},
   "source": [
    "#### Question 4\n",
    "\n",
    "You're a home decorator, and you'd like to use Python to streamline some of your work.  Specifically, you're creating a tool that you intend to use to calculate the cost of painting a room.\n",
    "\n",
    "As a first step, define a function `get_cost()` that takes as input:\n",
    "- `sqft_walls` = total square feet of walls to be painted\n",
    "- `sqft_ceiling` = square feet of ceiling to be painted\n",
    "- `sqft_per_gallon` = number of square feet that you can cover with one gallon of paint\n",
    "- `cost_per_gallon` = cost (in dollars) of one gallon of paint\n",
    "\n",
    "It should return the cost (in dollars) of putting one coat of paint on all walls and the ceiling.  Assume you can buy the exact amount of paint that you need, so you can buy partial gallons (e.g., if you need 7.523 gallons, you can buy that exact amount, instead of needing to buy 8 gallons and waste some paint).  Do not round your answer."
   ]
  },
  {
   "cell_type": "code",
   "execution_count": 31,
   "id": "4c17bd01-6451-4af4-8359-beffb724b491",
   "metadata": {
    "tags": []
   },
   "outputs": [],
   "source": [
    "def get_cost(sqft_walls, sqft_ceiling, sqft_per_gallon, cost_per_gallon):\n",
    "    cost = ((sqft_walls + sqft_ceiling)/sqft_per_gallon) * cost_per_gallon\n",
    "    return cost"
   ]
  },
  {
   "cell_type": "code",
   "execution_count": 32,
   "id": "82ecc6c4-c6b5-4c9b-b3c8-4194b1f823c5",
   "metadata": {
    "tags": []
   },
   "outputs": [
    {
     "data": {
      "text/plain": [
       "21.599999999999998"
      ]
     },
     "execution_count": 32,
     "metadata": {},
     "output_type": "execute_result"
    }
   ],
   "source": [
    "get_cost(432, 144, 400, 15)"
   ]
  },
  {
   "cell_type": "markdown",
   "id": "3dea06ec-a785-4a52-97a9-1025209967b9",
   "metadata": {},
   "source": [
    "#### Question 5\n",
    "\n",
    "you can no longer buy fractions of a gallon. (For instance, if you need 4.3 gallons to do a project, then you have to buy 5 gallons of paint.)\n",
    "\n",
    "With this new scenario, you will create a new function get_actual_cost that uses the same inputs and calculates the cost of your project.\n",
    "\n",
    "One function that you'll need to use to do this is math.ceil(). We demonstrate usage of this function in the code cell below. It takes as a number as input and rounds the number up to the nearest integer."
   ]
  },
  {
   "cell_type": "code",
   "execution_count": 35,
   "id": "d0714050-4ad4-47fe-aa24-fc92416fb315",
   "metadata": {
    "tags": []
   },
   "outputs": [],
   "source": [
    "import math"
   ]
  },
  {
   "cell_type": "code",
   "execution_count": 44,
   "id": "1c9e36e5-f533-43d8-b029-cb2bd773fc3c",
   "metadata": {
    "tags": []
   },
   "outputs": [],
   "source": [
    "def get_actual_cost(sqft_walls, sqft_ceiling, sqft_per_gallon, cost_per_gallon):\n",
    "    total_sqft = (sqft_walls + sqft_ceiling)\n",
    "    total_gallon = math.ceil(total_sqft /sqft_per_gallon)\n",
    "    cost = total_gallon * cost_per_gallon\n",
    "    return cost"
   ]
  },
  {
   "cell_type": "code",
   "execution_count": 45,
   "id": "da2850ca-0a1d-4a84-ae11-1425bf10705c",
   "metadata": {
    "tags": []
   },
   "outputs": [
    {
     "data": {
      "text/plain": [
       "30"
      ]
     },
     "execution_count": 45,
     "metadata": {},
     "output_type": "execute_result"
    }
   ],
   "source": [
    "get_actual_cost(432, 144, 400, 15)"
   ]
  },
  {
   "cell_type": "code",
   "execution_count": 46,
   "id": "b6cd6f1f-7ac5-4cf4-9e7e-3f93708d2a39",
   "metadata": {
    "tags": []
   },
   "outputs": [
    {
     "data": {
      "text/plain": [
       "30"
      ]
     },
     "execution_count": 46,
     "metadata": {},
     "output_type": "execute_result"
    }
   ],
   "source": [
    "get_actual_cost(432, 144, 400, 15) "
   ]
  },
  {
   "cell_type": "code",
   "execution_count": 47,
   "id": "dd7579e1-238e-4093-8be6-5f9502f8bdd5",
   "metadata": {
    "tags": []
   },
   "outputs": [
    {
     "data": {
      "text/plain": [
       "45"
      ]
     },
     "execution_count": 47,
     "metadata": {},
     "output_type": "execute_result"
    }
   ],
   "source": [
    "get_actual_cost(594, 288, 400, 15) "
   ]
  },
  {
   "cell_type": "markdown",
   "id": "33a5b8cd-f7f4-4401-ac03-0556bd26ae95",
   "metadata": {
    "tags": []
   },
   "source": [
    "### Topic 3 : Data Types"
   ]
  },
  {
   "cell_type": "markdown",
   "id": "709299d2-5407-4467-84dd-e70afcd6beff",
   "metadata": {},
   "source": [
    "Integers\n",
    "- Integers are numbers without any fractional part and can be positive (1, 2, 3, ...), negative (-1, -2, -3, ...), or zero (0)."
   ]
  },
  {
   "cell_type": "code",
   "execution_count": 49,
   "id": "00f58d0e-6c17-4e36-9e62-c7f51b4fead9",
   "metadata": {
    "tags": []
   },
   "outputs": [
    {
     "name": "stdout",
     "output_type": "stream",
     "text": [
      "<class 'int'>\n"
     ]
    }
   ],
   "source": [
    "print(type(1))"
   ]
  },
  {
   "cell_type": "markdown",
   "id": "e55bc3b9-b107-412b-9bd9-7c3cfe9642cb",
   "metadata": {},
   "source": [
    "Floats\n",
    "- Floats are numbers with fractional parts. They can have many numbers after decimal"
   ]
  },
  {
   "cell_type": "code",
   "execution_count": 50,
   "id": "c1e97176-91d2-4e45-9245-00f0d06888c3",
   "metadata": {
    "tags": []
   },
   "outputs": [
    {
     "data": {
      "text/plain": [
       "float"
      ]
     },
     "execution_count": 50,
     "metadata": {},
     "output_type": "execute_result"
    }
   ],
   "source": [
    "type(1.21)"
   ]
  },
  {
   "cell_type": "code",
   "execution_count": 51,
   "id": "f46b7ec2-6c6b-40ed-90a0-527136944676",
   "metadata": {
    "tags": []
   },
   "outputs": [
    {
     "name": "stdout",
     "output_type": "stream",
     "text": [
      "<class 'float'>\n"
     ]
    }
   ],
   "source": [
    "print(type(1.21))"
   ]
  },
  {
   "cell_type": "code",
   "execution_count": 53,
   "id": "cb718ee4-8f92-49b3-b858-a5970afef20f",
   "metadata": {
    "tags": []
   },
   "outputs": [
    {
     "name": "stdout",
     "output_type": "stream",
     "text": [
      "11.23\n",
      "<class 'float'>\n"
     ]
    }
   ],
   "source": [
    "# round float numbers to decimal places\n",
    "print(round(11.2344,2))\n",
    "print(type(11.2344))"
   ]
  },
  {
   "cell_type": "markdown",
   "id": "e8a2a5e1-1c0f-4ccd-a04d-08d45c519c8a",
   "metadata": {},
   "source": [
    "Booleans\n",
    "- Booleans represent one of two values: True or False"
   ]
  },
  {
   "cell_type": "code",
   "execution_count": 54,
   "id": "90bcef16-a5e1-45a7-8252-14817ffcfdb4",
   "metadata": {
    "tags": []
   },
   "outputs": [
    {
     "name": "stdout",
     "output_type": "stream",
     "text": [
      "<class 'bool'>\n"
     ]
    }
   ],
   "source": [
    "tru = True\n",
    "print(type(tru))"
   ]
  },
  {
   "cell_type": "code",
   "execution_count": 56,
   "id": "8c73998c-5f40-449b-968f-6ab36ad44179",
   "metadata": {
    "tags": []
   },
   "outputs": [
    {
     "name": "stdout",
     "output_type": "stream",
     "text": [
      "True\n",
      "<class 'bool'>\n"
     ]
    }
   ],
   "source": [
    "tru = (1 < 3)\n",
    "print(tru)\n",
    "print(type(tru))"
   ]
  },
  {
   "cell_type": "code",
   "execution_count": 59,
   "id": "79752bb0-bfe2-41a5-b29c-4949ea58cba4",
   "metadata": {
    "tags": []
   },
   "outputs": [
    {
     "name": "stdout",
     "output_type": "stream",
     "text": [
      "False\n",
      "<class 'bool'>\n"
     ]
    },
    {
     "data": {
      "text/plain": [
       "bool"
      ]
     },
     "execution_count": 59,
     "metadata": {},
     "output_type": "execute_result"
    }
   ],
   "source": [
    "# switch the value of boolean by using not\n",
    "fls = not True\n",
    "print(fls)\n",
    "print(type(fls))\n",
    "type(fls)"
   ]
  },
  {
   "cell_type": "markdown",
   "id": "c2292146-3bf0-4707-a163-e6cfe142eefa",
   "metadata": {},
   "source": [
    "Strings\n",
    "- The string data type is a collection of characters (like alphabet letters, punctuation, numerical digits, or symbols) contained in quotation marks. "
   ]
  },
  {
   "cell_type": "code",
   "execution_count": 62,
   "id": "374775ae-233e-43ef-904d-52d41b014e1a",
   "metadata": {
    "tags": []
   },
   "outputs": [
    {
     "name": "stdout",
     "output_type": "stream",
     "text": [
      "hello, learning!\n",
      "<class 'str'>\n"
     ]
    }
   ],
   "source": [
    "strg = 'hello, learning!'\n",
    "print(strg)\n",
    "print(type(strg))"
   ]
  },
  {
   "cell_type": "code",
   "execution_count": 64,
   "id": "54fef76f-94e5-4c26-9ad9-c92759e6e084",
   "metadata": {
    "tags": []
   },
   "outputs": [
    {
     "name": "stdout",
     "output_type": "stream",
     "text": [
      "16\n"
     ]
    },
    {
     "data": {
      "text/plain": [
       "16"
      ]
     },
     "execution_count": 64,
     "metadata": {},
     "output_type": "execute_result"
    }
   ],
   "source": [
    "# getting the length of string with length function\n",
    "print(len(strg))\n",
    "len(strg)"
   ]
  },
  {
   "cell_type": "code",
   "execution_count": 66,
   "id": "c097a163-bbf2-4a95-98cf-98d0d9522e64",
   "metadata": {
    "tags": []
   },
   "outputs": [
    {
     "name": "stdout",
     "output_type": "stream",
     "text": [
      "<class 'str'>\n"
     ]
    },
    {
     "data": {
      "text/plain": [
       "0"
      ]
     },
     "execution_count": 66,
     "metadata": {},
     "output_type": "execute_result"
    }
   ],
   "source": [
    "# empty string with length 0\n",
    "mt = \"\"\n",
    "print(type(mt))\n",
    "len(mt)"
   ]
  },
  {
   "cell_type": "code",
   "execution_count": 73,
   "id": "6a6cf1a6-5d9f-4da9-bd7a-7b06704e68aa",
   "metadata": {
    "tags": []
   },
   "outputs": [
    {
     "name": "stdout",
     "output_type": "stream",
     "text": [
      "12.345\n",
      "<class 'str'>\n",
      "12.345\n",
      "<class 'float'>\n"
     ]
    }
   ],
   "source": [
    "# conversion of astring to a float\n",
    "num_string = \"12.345\"\n",
    "print(num_string)\n",
    "print(type(num_string))\n",
    "num_float = float(num_string)\n",
    "print(num_float)\n",
    "print(type(num_float))"
   ]
  },
  {
   "cell_type": "code",
   "execution_count": 76,
   "id": "92412e6e-3f73-4487-b945-f79846ea0fec",
   "metadata": {
    "tags": []
   },
   "outputs": [
    {
     "data": {
      "text/plain": [
       "'mercedesbenz'"
      ]
     },
     "execution_count": 76,
     "metadata": {},
     "output_type": "execute_result"
    }
   ],
   "source": [
    "# adding two string or concat using '+'\n",
    "string1 = \"mercedes\"\n",
    "string2 = \"benz\"\n",
    "\n",
    "string3 = string1 + string2\n",
    "string3"
   ]
  },
  {
   "cell_type": "code",
   "execution_count": 77,
   "id": "becb27ba-b8f1-4011-8fba-a9ce23cee930",
   "metadata": {
    "tags": []
   },
   "outputs": [
    {
     "data": {
      "text/plain": [
       "'mercedesmercedesmercedes'"
      ]
     },
     "execution_count": 77,
     "metadata": {},
     "output_type": "execute_result"
    }
   ],
   "source": [
    "# multiply using a string \n",
    "string1 = \"mercedes\"\n",
    "\n",
    "string4 = string1 * 3\n",
    "string4"
   ]
  },
  {
   "cell_type": "markdown",
   "id": "12fe61c7-db55-44d1-8e22-5331de6ec9ce",
   "metadata": {},
   "source": [
    "#### Question 1\n",
    "\n",
    "In this question, you will build off your work from the previous exercise to write a function that estimates the value of a house.\n",
    "\n",
    "Use the next code cell to create a function `get_expected_cost` that takes as input three variables:\n",
    "- `beds` - number of bedrooms (data type float)\n",
    "- `baths` - number of bathrooms (data type float)\n",
    "- `has_basement` - whether or not the house has a basement (data type boolean)\n",
    "\n",
    "It should return the expected cost of a house with those characteristics. Assume that:\n",
    "- the expected cost for a house with 0 bedrooms and 0 bathrooms, and no basement is 80000, \n",
    "- each bedroom adds 30000 to the expected cost,\n",
    "- each bathroom adds 10000 to the expected cost, and\n",
    "- a basement adds 40000 to the expected cost.\n",
    "\n",
    "For instance,\n",
    "- a house with 1 bedroom, 1 bathroom, and no basement has an expected cost of 80000 + 30000 + 10000 = 120000.  This value will be calculated with `get_expected_cost(1, 1, False)`.\n",
    "- a house with 2 bedrooms, 1 bathroom, and a basement has an expected cost of 80000 + 2*30000 + 10000 + 40000 = 190000.  This value will be calculated with `get_expected_cost(2, 1, True)`.\n",
    "\n",
    "Remember you can always get a hint by uncommenting `q3.hint()` in the code cell following the next!"
   ]
  },
  {
   "cell_type": "code",
   "execution_count": 78,
   "id": "8542961b-ee5c-4f02-9dd4-b1680fa9ac2d",
   "metadata": {
    "tags": []
   },
   "outputs": [],
   "source": [
    "def get_expected_cost(beds,baths,has_basement):\n",
    "    cost = 80000 + (beds * 30000) + (baths * 10000) + (has_basement * 40000)\n",
    "    return cost"
   ]
  },
  {
   "cell_type": "code",
   "execution_count": 79,
   "id": "475737b4-e39f-4a70-81b3-5898c7f02700",
   "metadata": {
    "tags": []
   },
   "outputs": [
    {
     "data": {
      "text/plain": [
       "120000"
      ]
     },
     "execution_count": 79,
     "metadata": {},
     "output_type": "execute_result"
    }
   ],
   "source": [
    "get_expected_cost(1,1,False)"
   ]
  },
  {
   "cell_type": "code",
   "execution_count": 80,
   "id": "f8c948e8-16d7-4283-b575-1905ee33fb05",
   "metadata": {
    "tags": []
   },
   "outputs": [
    {
     "data": {
      "text/plain": [
       "190000"
      ]
     },
     "execution_count": 80,
     "metadata": {},
     "output_type": "execute_result"
    }
   ],
   "source": [
    "get_expected_cost(2,1,True)"
   ]
  },
  {
   "cell_type": "code",
   "execution_count": 81,
   "id": "53a3adc0-c379-4a2f-85a4-05eee8ebcf1e",
   "metadata": {
    "tags": []
   },
   "outputs": [
    {
     "name": "stdout",
     "output_type": "stream",
     "text": [
      "0\n",
      "1\n",
      "1\n",
      "2\n",
      "3\n"
     ]
    }
   ],
   "source": [
    "# boolean arithemetics\n",
    "print(False + False)\n",
    "print(True + False)\n",
    "print(False + True)\n",
    "print(True + True)\n",
    "print(False + True + True + True)"
   ]
  },
  {
   "cell_type": "markdown",
   "id": "f4f32339-2e41-4f86-b67a-009780e0577b",
   "metadata": {},
   "source": [
    "#### Question 2\n",
    "\n",
    "You own an online shop where you sell rings with custom engravings.  You offer both gold plated and solid gold rings.\n",
    "- Gold plated rings have a base cost of \\\\$50, and you charge \\\\$7 per engraved unit.  \n",
    "- Solid gold rings have a base cost of \\\\$100, and you charge \\\\$10 per engraved unit.\n",
    "- Spaces and punctuation are counted as engraved units.\n",
    "\n",
    "Write a function `cost_of_project()` that takes two arguments:\n",
    "- `engraving` - a Python string with the text of the engraving\n",
    "- `solid_gold` - a Boolean that indicates whether the ring is solid gold\n",
    "\n",
    "It should return the cost of the project.  This question should be fairly challenging, and you may need a hint."
   ]
  },
  {
   "cell_type": "code",
   "execution_count": 87,
   "id": "d0863cca-75dd-46ef-aef2-965898b75184",
   "metadata": {
    "tags": []
   },
   "outputs": [],
   "source": [
    "def cost_of_project(solid_gold,engraving):\n",
    "    cost = solid_gold * (100 + len(engraving) * 10 ) +  (not solid_gold) * (50 + len(engraving) * 7)\n",
    "    return cost"
   ]
  },
  {
   "cell_type": "code",
   "execution_count": 89,
   "id": "c2c54d5e-de40-4c21-9082-9b7007812cb4",
   "metadata": {
    "tags": []
   },
   "outputs": [
    {
     "data": {
      "text/plain": [
       "240"
      ]
     },
     "execution_count": 89,
     "metadata": {},
     "output_type": "execute_result"
    }
   ],
   "source": [
    "cost_of_project(True, \"Charlie+Denver\")"
   ]
  },
  {
   "cell_type": "code",
   "execution_count": 90,
   "id": "5410937f-4350-4cec-8837-62008268ed25",
   "metadata": {
    "tags": []
   },
   "outputs": [
    {
     "data": {
      "text/plain": [
       "120"
      ]
     },
     "execution_count": 90,
     "metadata": {},
     "output_type": "execute_result"
    }
   ],
   "source": [
    "cost_of_project(False, \"08/10/2000\")"
   ]
  },
  {
   "cell_type": "markdown",
   "id": "caf733a5-e82e-445e-a40a-d54bf834c4a3",
   "metadata": {},
   "source": [
    "### Topic 4 : Conditions and Conditional Statements"
   ]
  },
  {
   "cell_type": "markdown",
   "id": "14fdbf4e-60f5-4a4d-8628-64af920b5b8a",
   "metadata": {},
   "source": [
    "#### Conditions"
   ]
  },
  {
   "cell_type": "code",
   "execution_count": 93,
   "id": "5237ff6e-97dd-4bdb-aa4a-e55806370b2c",
   "metadata": {
    "tags": []
   },
   "outputs": [
    {
     "name": "stdout",
     "output_type": "stream",
     "text": [
      "False\n",
      "True\n"
     ]
    }
   ],
   "source": [
    "# conditions either returns True or False\n",
    "\n",
    "print(2 > 3)\n",
    "print(1 < 2)"
   ]
  },
  {
   "cell_type": "markdown",
   "id": "f6aa5dd5-8abb-49e7-96ba-b70c1d6e224f",
   "metadata": {},
   "source": [
    "- var_one==1 checks if the value of var_one is 1\n",
    "- var_one=1 sets the value of var_one to 1"
   ]
  },
  {
   "cell_type": "markdown",
   "id": "01388563-9866-4241-9ec7-13d452111169",
   "metadata": {},
   "source": [
    "#### Conditional Statements"
   ]
  },
  {
   "cell_type": "markdown",
   "id": "32710be7-c993-4fe0-9963-5f1a859b3bea",
   "metadata": {},
   "source": [
    "##### \"if\" statements\n",
    "The simplest type of conditional statement is an \"if\" statement. You can see an example of this in the evaluate_temp() function below. The function accepts a body temperature (in Celcius) as input.\n",
    "\n",
    "Initially, message is set to \"Normal temperature\".\n",
    "Then, \n",
    "- if temp > 38 is True (e.g., the body temperature is greater than 38°C), the message is updated to \"Fever!\". \n",
    "- Otherwise, if temp > 38 is False, then the message is not updated."
   ]
  },
  {
   "cell_type": "code",
   "execution_count": 94,
   "id": "16f82ccb-7dce-4004-8910-24cceaddb5d5",
   "metadata": {
    "tags": []
   },
   "outputs": [],
   "source": [
    "def evaluate_temp(temp):\n",
    "    message = \"Normal Temperature\"\n",
    "    if temp > 38:\n",
    "        message = 'Fever!'\n",
    "    return message"
   ]
  },
  {
   "cell_type": "code",
   "execution_count": 95,
   "id": "409f81ac-157a-40c4-80a2-e61ad2ed84b7",
   "metadata": {
    "tags": []
   },
   "outputs": [
    {
     "data": {
      "text/plain": [
       "'Normal Temperature'"
      ]
     },
     "execution_count": 95,
     "metadata": {},
     "output_type": "execute_result"
    }
   ],
   "source": [
    "evaluate_temp(36)"
   ]
  },
  {
   "cell_type": "code",
   "execution_count": 96,
   "id": "0c6dbaba-69fb-4a38-b5d0-7591d91536a9",
   "metadata": {
    "tags": []
   },
   "outputs": [
    {
     "data": {
      "text/plain": [
       "'Fever!'"
      ]
     },
     "execution_count": 96,
     "metadata": {},
     "output_type": "execute_result"
    }
   ],
   "source": [
    "evaluate_temp(40)"
   ]
  },
  {
   "cell_type": "markdown",
   "id": "59a7c6aa-33fa-4563-a67a-a2610491e31a",
   "metadata": {},
   "source": [
    "##### \"if ... else\" statements\n",
    "We can use \"else\" statements to run code if a statement is False."
   ]
  },
  {
   "cell_type": "code",
   "execution_count": 99,
   "id": "c50eebba-a501-4bdd-ab3a-497c5cbc296b",
   "metadata": {
    "tags": []
   },
   "outputs": [],
   "source": [
    "def evaluate_tempp(temp):\n",
    "    if temp > 38:\n",
    "        message = 'Fever!'\n",
    "    else:\n",
    "        message = 'Normal Temperature'\n",
    "    return message"
   ]
  },
  {
   "cell_type": "code",
   "execution_count": 101,
   "id": "17514bd9-369d-4898-b38a-103a3d4607e0",
   "metadata": {
    "tags": []
   },
   "outputs": [
    {
     "data": {
      "text/plain": [
       "'Normal Temperature'"
      ]
     },
     "execution_count": 101,
     "metadata": {},
     "output_type": "execute_result"
    }
   ],
   "source": [
    "evaluate_tempp(32)"
   ]
  },
  {
   "cell_type": "markdown",
   "id": "51063d21-d690-4bba-bbb3-a9e4fcba5c57",
   "metadata": {},
   "source": [
    "#### \"if ... elif ... else\" statements\n",
    "We can use \"elif\" (which is short for \"else if\") to check if multiple conditions might be true. \n",
    "\n",
    "- First checks if temp > 38. If this is true, then the message is set to \"Fever!\".\n",
    "- As long as the message has not already been set, the function then checks if temp > 35. If this is true, then the message is set to \"Normal temperature.\".\n",
    "- if still no message has been set, the \"else\" statement ensures that the message is set to \"Low temperature.\" message is printed."
   ]
  },
  {
   "cell_type": "code",
   "execution_count": 102,
   "id": "cc2662f2-6d2f-4a46-8f0f-f08d7a7f5761",
   "metadata": {
    "tags": []
   },
   "outputs": [],
   "source": [
    "def evaluate_temppp(temp):\n",
    "    if temp > 38:\n",
    "        message = \"Fever!\"\n",
    "    elif temp > 35:\n",
    "        message = 'Normal Temperature'\n",
    "    else:\n",
    "        message = 'Low Temperature'\n",
    "    return message"
   ]
  },
  {
   "cell_type": "code",
   "execution_count": 106,
   "id": "de26ddb5-ed26-4af1-8573-4cc545a01bb5",
   "metadata": {
    "tags": []
   },
   "outputs": [
    {
     "data": {
      "text/plain": [
       "'Low Temperature'"
      ]
     },
     "execution_count": 106,
     "metadata": {},
     "output_type": "execute_result"
    }
   ],
   "source": [
    "evaluate_temppp(20)"
   ]
  },
  {
   "cell_type": "markdown",
   "id": "1f4e280a-65f0-4389-8737-2c5e2e8e5359",
   "metadata": {
    "tags": []
   },
   "source": [
    "### Topic 5 : Lists"
   ]
  },
  {
   "cell_type": "markdown",
   "id": "b0f6db9a-edf6-4684-a54c-f5c365974954",
   "metadata": {},
   "source": [
    "To create a list, you need to use square brackets ([, ]) and separate each item with a comma.\n"
   ]
  },
  {
   "cell_type": "code",
   "execution_count": 112,
   "id": "e2cf12de-8fcc-479c-823f-384606aeb1ef",
   "metadata": {
    "tags": []
   },
   "outputs": [
    {
     "name": "stdout",
     "output_type": "stream",
     "text": [
      "<class 'list'>\n"
     ]
    },
    {
     "data": {
      "text/plain": [
       "list"
      ]
     },
     "execution_count": 112,
     "metadata": {},
     "output_type": "execute_result"
    }
   ],
   "source": [
    "flowers_list = [\"pink primrose\", \"hard-leaved pocket orchid\", \"canterbury bells\", \n",
    "                \"sweet pea\", \"english marigold\", \"tiger lily\", \"moon orchid\", \n",
    "                \"bird of paradise\", \"monkshood\", \"globe thistle\"]\n",
    "\n",
    "print(type(flowers_list))\n",
    "type(flowers_list)"
   ]
  },
  {
   "cell_type": "markdown",
   "id": "65f65e8b-f028-4dff-b641-9993218a75f0",
   "metadata": {},
   "source": [
    "a list will make it easier to:\n",
    "- get an item at a specified position (first, second, third, etc),\n",
    "- check the number of items, and\n",
    "- add and remove items."
   ]
  },
  {
   "cell_type": "code",
   "execution_count": 123,
   "id": "ecf43536-d763-4992-9ed4-3bcaa210a52c",
   "metadata": {
    "tags": []
   },
   "outputs": [
    {
     "name": "stdout",
     "output_type": "stream",
     "text": [
      "10\n",
      "first element: pink primrose\n",
      "first three elements: ['pink primrose', 'hard-leaved pocket orchid', 'canterbury bells']\n",
      "finall two entries: ['globe thistle', 'sun flower']\n",
      "['pink primrose', 'hard-leaved pocket orchid', 'canterbury bells', 'sweet pea', 'english marigold', 'tiger lily', 'moon orchid', 'bird of paradise', 'globe thistle', 'sun flower']\n",
      "['pink primrose', 'hard-leaved pocket orchid', 'canterbury bells', 'sweet pea', 'english marigold', 'tiger lily', 'moon orchid', 'bird of paradise', 'globe thistle', 'sun flower']\n",
      "min from the list: 128\n",
      "max from the list: 191\n",
      "sum of list elements: 1118\n"
     ]
    }
   ],
   "source": [
    "## length\n",
    "print(len(flowers_list))\n",
    "\n",
    "## indexing - index start from 0\n",
    "print(\"first element:\",flowers_list[0])\n",
    "\n",
    "## slicing\n",
    "print(\"first three elements:\", flowers_list[:3])\n",
    "print(\"finall two entries:\", flowers_list[-2:])\n",
    "\n",
    "## remove an item from list\n",
    "## using .remove method\n",
    "#flowers_list.remove('monkshood')\n",
    "print(flowers_list)\n",
    "\n",
    "## adding items to a list\n",
    "## using .append() method\n",
    "#flowers_list.append('sun flower')\n",
    "print(flowers_list)\n",
    "\n",
    "\n",
    "## list can also have integers (not only strings)\n",
    "num_list = [150, 128, 172, 139, 191, 168, 170]\n",
    "\n",
    "## find min and max with \n",
    "print(\"min from the list:\", min(num_list))\n",
    "print(\"max from the list:\", max(num_list))\n",
    "\n",
    "## add every items from the list\n",
    "print(\"sum of list elements:\", sum(num_list))"
   ]
  },
  {
   "cell_type": "code",
   "execution_count": 125,
   "id": "194c51a3-c070-4803-83d1-7f36d5c234cb",
   "metadata": {
    "tags": []
   },
   "outputs": [
    {
     "data": {
      "text/plain": [
       "['pink primrose',\n",
       " 'hard-leaved pocket orchid',\n",
       " 'canterbury bells',\n",
       " 'sweet pea',\n",
       " 'english marigold',\n",
       " 'tiger lily',\n",
       " 'moon orchid',\n",
       " 'bird of paradise',\n",
       " 'monkshood',\n",
       " 'globe thistle']"
      ]
     },
     "execution_count": 125,
     "metadata": {},
     "output_type": "execute_result"
    }
   ],
   "source": [
    "## split a string into list\n",
    "## using split method\n",
    "flowers = \"pink primrose,hard-leaved pocket orchid,canterbury bells,sweet pea,english marigold,tiger lily,moon orchid,bird of paradise,monkshood,globe thistle\"\n",
    "\n",
    "flowers.split(\",\")"
   ]
  },
  {
   "cell_type": "code",
   "execution_count": 126,
   "id": "e979f3a6-abdc-44f5-abef-8b93e7b70372",
   "metadata": {
    "tags": []
   },
   "outputs": [],
   "source": [
    "## list comprehensions, allow you to create a list based on the values in another list"
   ]
  },
  {
   "cell_type": "code",
   "execution_count": 127,
   "id": "4bbe41d6-9ec6-46af-8b7e-ed388a0eed83",
   "metadata": {
    "tags": []
   },
   "outputs": [
    {
     "data": {
      "text/plain": [
       "[False, False, False, False, True]"
      ]
     },
     "execution_count": 127,
     "metadata": {},
     "output_type": "execute_result"
    }
   ],
   "source": [
    "test_ratings = [1, 2, 3, 4, 5]\n",
    "\n",
    "## use (test_ratings) to create a new list (test_liked) where each item has been turned into a boolean, \n",
    "## depending on whether or not the item is greater than or equal to four.\n",
    "test_liked = [i>4 for i in test_ratings]\n",
    "test_liked\n",
    "\n"
   ]
  },
  {
   "cell_type": "code",
   "execution_count": null,
   "id": "c7f19fe3-2c6a-46bb-9ea2-ea272429fb90",
   "metadata": {},
   "outputs": [],
   "source": []
  }
 ],
 "metadata": {
  "kernelspec": {
   "display_name": "Python 3 (ipykernel)",
   "language": "python",
   "name": "python3"
  },
  "language_info": {
   "codemirror_mode": {
    "name": "ipython",
    "version": 3
   },
   "file_extension": ".py",
   "mimetype": "text/x-python",
   "name": "python",
   "nbconvert_exporter": "python",
   "pygments_lexer": "ipython3",
   "version": "3.11.4"
  }
 },
 "nbformat": 4,
 "nbformat_minor": 5
}
